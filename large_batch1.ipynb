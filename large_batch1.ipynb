{
 "cells": [
  {
   "cell_type": "code",
   "execution_count": null,
   "metadata": {},
   "outputs": [],
   "source": [
    "!python3 differentially_private/baseline_train.py --config=configs/dp_largebatch/cifar10lpfull.yaml --log_dir=logs/bat1000_moco2_200ep_dplpfull_cifar10_lr_1_nm_0.3_mt_0_sd_0 --project_name=dplpfull_cifar10 --group_name=dplpfull_cifar10 --run_name bat1000_moco2_200ep_dp_lpfull_cifar10_lr_1_nm_0.3_mt_0_sd_0 --optimizer.args.lr=1 --no_wandb --seed 0 --privacy_engine.args.noise_multiplier=1 --model.args.checkpoint_path='cl/moco_v2_200ep_pretrain.pth.tar'"
   ]
  },
  {
   "cell_type": "code",
   "execution_count": null,
   "metadata": {},
   "outputs": [],
   "source": [
    "!python3 differentially_private/baseline_train.py --config=configs/dp_largebatch/cifar10lpfull.yaml --log_dir=logs/bat1000_moco2_200ep_dplpfull_cifar10_lr_1_nm_0.3_mt_0_sd_1 --project_name=dplpfull_cifar10 --group_name=dplpfull_cifar10 --run_name bat1000_moco2_200ep_dp_lpfull_cifar10_lr_1_nm_0.3_mt_0_sd_1 --optimizer.args.lr=1 --no_wandb --seed 1 --privacy_engine.args.noise_multiplier=1 --model.args.checkpoint_path='cl/moco_v2_200ep_pretrain.pth.tar'"
   ]
  },
  {
   "cell_type": "code",
   "execution_count": null,
   "metadata": {},
   "outputs": [],
   "source": [
    "!python3 differentially_private/baseline_train.py --config=configs/dp_largebatch/cifar10lpfull.yaml --log_dir=logs/bat1000_moco2_200ep_dplpfull_cifar10_lr_1_nm_0.3_mt_0_sd_2 --project_name=dplpfull_cifar10 --group_name=dplpfull_cifar10 --run_name bat1000_moco2_200ep_dp_lpfull_cifar10_lr_1_nm_0.3_mt_0_sd_2 --optimizer.args.lr=1 --no_wandb --seed 2 --privacy_engine.args.noise_multiplier=1 --model.args.checkpoint_path='cl/moco_v2_200ep_pretrain.pth.tar'"
   ]
  }
 ],
 "metadata": {
  "language_info": {
   "name": "python"
  }
 },
 "nbformat": 4,
 "nbformat_minor": 2
}
