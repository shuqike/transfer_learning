{
 "cells": [
  {
   "cell_type": "code",
   "execution_count": 2,
   "metadata": {},
   "outputs": [],
   "source": [
    "import breeds"
   ]
  },
  {
   "cell_type": "code",
   "execution_count": 5,
   "metadata": {},
   "outputs": [
    {
     "name": "stdout",
     "output_type": "stream",
     "text": [
      "154263\n"
     ]
    }
   ],
   "source": [
    "ds = breeds.Breeds('/u/scr/nlp/imagenet/', 'entity30', source=True, target=False)\n",
    "print(len(ds))"
   ]
  },
  {
   "cell_type": "code",
   "execution_count": 6,
   "metadata": {},
   "outputs": [
    {
     "name": "stdout",
     "output_type": "stream",
     "text": [
      "153565\n"
     ]
    }
   ],
   "source": [
    "ds = breeds.Breeds('/u/scr/nlp/imagenet/', 'entity30', source=False, target=True)\n",
    "print(len(ds))"
   ]
  },
  {
   "cell_type": "code",
   "execution_count": 6,
   "metadata": {},
   "outputs": [
    {
     "name": "stdout",
     "output_type": "stream",
     "text": [
      "44200\n"
     ]
    }
   ],
   "source": [
    "ds = breeds.Breeds('/u/scr/nlp/imagenet/', 'living17', source=True, target=False)\n",
    "print(len(ds))"
   ]
  },
  {
   "cell_type": "code",
   "execution_count": 7,
   "metadata": {},
   "outputs": [
    {
     "name": "stdout",
     "output_type": "stream",
     "text": [
      "44200\n"
     ]
    }
   ],
   "source": [
    "ds = breeds.Breeds('/u/scr/nlp/imagenet/', 'living17', source=False, target=True)\n",
    "print(len(ds))"
   ]
  },
  {
   "cell_type": "code",
   "execution_count": 3,
   "metadata": {},
   "outputs": [
    {
     "name": "stdout",
     "output_type": "stream",
     "text": [
      "Dataset sizes: source (154263), target (153565). Standardizing to the smaller size.\n",
      "153565\n",
      "Dataset sizes: source (154263), target (153565). Standardizing to the smaller size.\n",
      "153565\n",
      "Dataset sizes: source (154263), target (153565). Standardizing to the smaller size.\n",
      "153565\n"
     ]
    }
   ],
   "source": [
    "# standardization\n",
    "ds = breeds.Breeds('/u/scr/nlp/imagenet/', 'entity30', source=True, target=False, downsample=True)\n",
    "print(len(ds))\n",
    "ds = breeds.Breeds('/u/scr/nlp/imagenet/', 'entity30', source=False, target=True, downsample=True)\n",
    "print(len(ds))\n",
    "ds = breeds.Breeds('/u/scr/nlp/imagenet/', 'entity30', source=True, target=True, downsample=True)\n",
    "print(len(ds))"
   ]
  },
  {
   "cell_type": "code",
   "execution_count": 4,
   "metadata": {},
   "outputs": [
    {
     "name": "stdout",
     "output_type": "stream",
     "text": [
      "Dataset sizes: source (44200), target (44200). Standardizing to the smaller size.\n",
      "44200\n",
      "Dataset sizes: source (44200), target (44200). Standardizing to the smaller size.\n",
      "44200\n",
      "Dataset sizes: source (44200), target (44200). Standardizing to the smaller size.\n",
      "44200\n"
     ]
    }
   ],
   "source": [
    "# standardization\n",
    "ds = breeds.Breeds('/u/scr/nlp/imagenet/', 'living17', source=True, target=False, downsample=True)\n",
    "print(len(ds))\n",
    "ds = breeds.Breeds('/u/scr/nlp/imagenet/', 'living17', source=False, target=True, downsample=True)\n",
    "print(len(ds))\n",
    "ds = breeds.Breeds('/u/scr/nlp/imagenet/', 'living17', source=True, target=True, downsample=True)\n",
    "print(len(ds))"
   ]
  },
  {
   "cell_type": "code",
   "execution_count": null,
   "metadata": {},
   "outputs": [],
   "source": []
  }
 ],
 "metadata": {
  "kernelspec": {
   "display_name": "Python 3",
   "language": "python",
   "name": "python3"
  },
  "language_info": {
   "codemirror_mode": {
    "name": "ipython",
    "version": 3
   },
   "file_extension": ".py",
   "mimetype": "text/x-python",
   "name": "python",
   "nbconvert_exporter": "python",
   "pygments_lexer": "ipython3",
   "version": "3.8.5"
  }
 },
 "nbformat": 4,
 "nbformat_minor": 4
}
